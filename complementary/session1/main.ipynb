{
 "cells": [
  {
   "cell_type": "code",
   "execution_count": 1,
   "id": "40728b3c",
   "metadata": {},
   "outputs": [
    {
     "name": "stdout",
     "output_type": "stream",
     "text": [
      "c:\\Users\\maico\\AppData\\Local\\Programs\\Python\\Python310\\python.exe\n",
      "\n",
      "  ___  ____  ____  ____  ____ ®\n",
      " /__    /   ____/   /   ____/      StataNow 19.5\n",
      "___/   /   /___/   /   /___/       SE—Standard Edition\n",
      "\n",
      " Statistics and Data Science       Copyright 1985-2025 StataCorp LLC\n",
      "                                   StataCorp\n",
      "                                   4905 Lakeway Drive\n",
      "                                   College Station, Texas 77845 USA\n",
      "                                   800-782-8272        https://www.stata.com\n",
      "                                   979-696-4600        service@stata.com\n",
      "\n",
      "Stata license: Unlimited-user network, expiring 16 Aug 2025\n",
      "Serial number: 401909309297\n",
      "  Licensed to: Mahicol Stiben Ramírez González\n",
      "               Universidad de los Andes\n",
      "\n",
      "Notes:\n",
      "      1. Unicode is supported; see help unicode_advice.\n",
      "      2. Maximum number of variables is set to 5,000 but can be increased;\n",
      "          see help set_maxvar.\n"
     ]
    }
   ],
   "source": [
    "#!pip install stata_setup\n",
    "import sys\n",
    "print(sys.executable)\n",
    "import stata_setup\n",
    "stata_setup.config(\"C:\\\\Program Files\\\\StataNow19\", \"se\")"
   ]
  }
 ],
 "metadata": {
  "kernelspec": {
   "display_name": "Python 3",
   "language": "python",
   "name": "python3"
  },
  "language_info": {
   "codemirror_mode": {
    "name": "ipython",
    "version": 3
   },
   "file_extension": ".py",
   "mimetype": "text/x-python",
   "name": "python",
   "nbconvert_exporter": "python",
   "pygments_lexer": "ipython3",
   "version": "3.10.11"
  }
 },
 "nbformat": 4,
 "nbformat_minor": 5
}
